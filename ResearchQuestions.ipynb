{
 "cells": [
  {
   "cell_type": "markdown",
   "id": "71f37000-b035-4070-ab13-aa24f357d14e",
   "metadata": {},
   "source": [
    "<h1>Queries Accompanying Research Questions</h1>"
   ]
  },
  {
   "cell_type": "markdown",
   "id": "7156ca0b-1538-407c-b019-e2ac307deba7",
   "metadata": {},
   "source": [
    "<h2>RQ 1: Do developers look for software recommendations?</h2>"
   ]
  },
  {
   "cell_type": "raw",
   "id": "d506d56f-ec86-4fa5-ad68-a54608cdee28",
   "metadata": {},
   "source": [
    "SELECT TOP (20) [AutoIdPK]\n",
    "      ,[Id]\n",
    "      ,[TagName]\n",
    "      ,[Count]\n",
    "      ,[ExcerptPostId]\n",
    "      ,[WikiPostId]\n",
    "      ,[IsRequired]\n",
    "      ,[IsModeratorOnly]\n",
    "  FROM [StackExchangeTagsDb_July2024].[dbo].[softwarerecommendations_998]\n",
    "  order by Count desc\n"
   ]
  },
  {
   "cell_type": "markdown",
   "id": "92bc1691-09eb-4825-8df0-4ac29aa408c0",
   "metadata": {},
   "source": [
    "<h2>RQ 2: Can crowdsourced developer knowledge on question answering (Q&A) sites be utilized as wisdom of crowds for software recommendations?</h2>"
   ]
  },
  {
   "cell_type": "code",
   "execution_count": null,
   "id": "9f39ec7f-a4a1-47e8-9cab-b8c50506e7a3",
   "metadata": {},
   "outputs": [],
   "source": [
    "import pandas as pd\n",
    "import pyodbc\n",
    "import glob\n",
    "import os\n",
    "import csv\n",
    "server = 'DESKTOP-DEK23E9'\n",
    "database = 'StackExchangeTagsDb_July2024' \n",
    "software_recommendations_table = 'softwarerecommendations_998'\n",
    "stack_overflow_table = '[StackOverflowTagsDb_April2024].[dbo].[StackOverflowTags] '\n",
    "cnxn = pyodbc.connect('DRIVER={SQL Server};SERVER='+server+';DATABASE='+database+';')\n",
    "cursor = cnxn.cursor()\n",
    "\n",
    "\n",
    "query=\" SELECT TABLE_NAME FROM INFORMATION_SCHEMA.TABLES WHERE TABLE_TYPE = 'BASE TABLE' AND TABLE_CATALOG='{}'\".format(database)    \n",
    "print(query)\n",
    "cursor.execute(query)\n",
    "all_tables_list = [item[0] for item in cursor.fetchall()]\n",
    "if software_recommendations_table in all_tables_list:\n",
    "    all_tables_list.remove(software_recommendations_table)\n",
    "\n",
    "csvFile = open('tag_overlapping_results.csv', 'w', newline='')\n",
    "writer = csv.writer(csvFile)\n",
    "# SR=Software Recommendations, SO=Stack Overflow\n",
    "writer.writerow([\"SiteName\", \"TotalSiteTags(B)\", \"SR_Site_Overlap(D+E)\", \"SR_Site_SO_Overlap(E)\"])\n",
    "for table in all_tables_list: \n",
    "    site, count = table.split('_')\n",
    "    #find overlapping tags between software recommendations and technology based site\n",
    "    sr_overlap_query=\" SELECT count(*) from {} as sr Inner Join  {} as site On site.TagName = sr.TagName \".format(software_recommendations_table, table)    \n",
    "    cursor.execute(sr_overlap_query)\n",
    "    sr_overlap_count = cursor.fetchone()[0]\n",
    "    #find overlapping tags between software recommendations, technology based site and stack overflow \n",
    "    so_overlap_query=''' SELECT count(*) from {} as sr \n",
    "                        Inner Join {} as site  On site.TagName = sr.TagName \n",
    "                        Inner Join  {}  as so On so.TagName = site.TagName '''.format(software_recommendations_table, table,  stack_overflow_table )\n",
    "    cursor.execute(so_overlap_query)\n",
    "    so_overlap_count = cursor.fetchone()[0]\n",
    "    \n",
    "    print(site)\n",
    "    writer.writerow([site,count,sr_overlap_count ,so_overlap_count])\n",
    "\n",
    "csvFile.close()\n",
    "print('End of comparison')"
   ]
  },
  {
   "cell_type": "markdown",
   "id": "88338767-f3fc-4fa5-91b0-7d2fb7a9130b",
   "metadata": {},
   "source": [
    "<h2>RQ 3: Do developers actually look for (any sort of) recommendations on Stack Overflow?\r",
    "</h2>"
   ]
  },
  {
   "cell_type": "markdown",
   "id": "e994ca09-f730-4f75-a68b-4a98ddda19ab",
   "metadata": {},
   "source": [
    "<p><b>Questions Migrated from Stack Overflow to other Stack Exchange based sites:</b> SQL query for getting questions migrated from Stack Overflow to other Stack Exchange based site.</p>"
   ]
  },
  {
   "cell_type": "raw",
   "id": "d10037c7-f9f5-4239-a576-91a2dfb551a0",
   "metadata": {},
   "source": [
    "select * from [StackOverflowPostHistoryDb_April2024].[dbo].[StackOverflowPostHistory] where PostHistoryTypeId in (17, 35) "
   ]
  },
  {
   "cell_type": "markdown",
   "id": "eb94607c-eab1-4892-804d-4d2473f57a9c",
   "metadata": {},
   "source": [
    "<p><b>Keywords Based Filtering:</b> We first filtered questions (PostTypeId=1) from Posts based on the presence of any of the keywords in Title, Body or both Title and Body and saved the data in separate tables (<code>Questions_Body_AllKeywords, Questions_Body_AllKeywords, Questions_TitleBodyBoth_AllKeywords</code>) for reducing the query processing time instead of accessing the same data from Posts. <i>Don't forget to create database <code>StackOverflowRecommendationsDb_April2024</code> using SSMS before executing these queries. </i></p>"
   ]
  },
  {
   "cell_type": "raw",
   "id": "d5de9e74-03cc-40e6-a577-76b6f064dd13",
   "metadata": {},
   "source": [
    "SELECT  *\n",
    "\t into [StackOverflowRecommendationsDb_April2024].[dbo].[Questions_Body_AllKeywords]\n",
    "  FROM [StackOverflowPostsDb_April2024].[dbo].[StackOverflowPosts]\n",
    "  where PostTypeId=1 and (\n",
    "  lower(Title) like '%recommend%'\n",
    "  or lower(Title) like '%advise%'\n",
    "  or lower(Title) like '%advocate%'\n",
    "  or lower(Title) like '%adopt%'\n",
    "  or lower(Title) like '%suggest%'\n",
    "  or lower(Title) like '%suitable%'\n",
    "  or lower(Title) like '%praise%'\n",
    "  or lower(Title) like '%favor%'\n",
    "  or lower(Title) like '%support%'\n",
    "  or lower(Title) like '%urge%'\n",
    "  or lower(Title) like '%promote%'\n",
    "  or lower(Title) like '%champion%'\n",
    "  or lower(Title) like '%endorse%'\n",
    "  or lower(Title) like '%commend%'\n",
    "  or lower(Title) like '%propose%'\n",
    "  or lower(Title) like '%oppose%'\n",
    "  or lower(Title) like '%condemn%'\n",
    "  or lower(Title) like '%reject%'\n",
    "  or lower(Title) like '%disapprove%'\n",
    "  )\n",
    "\n",
    "\n",
    "SELECT  *\n",
    "\t into [StackOverflowRecommendationsDb_April2024].[dbo].[Questions_Body_AllKeywords]\n",
    "  FROM [StackOverflowPostsDb_April2024].[dbo].[StackOverflowPosts]\n",
    "  where PostTypeId=1 and (\n",
    "  lower(Body) like '%recommend%'\n",
    "  or lower(Body) like '%advise%'\n",
    "  or lower(Body) like '%advocate%'\n",
    "  or lower(Body) like '%adopt%'\n",
    "  or lower(Body) like '%suggest%'\n",
    "  or lower(Body) like '%suitable%'\n",
    "  or lower(Body) like '%praise%'\n",
    "  or lower(Body) like '%favor%'\n",
    "  or lower(Body) like '%support%'\n",
    "  or lower(Body) like '%urge%'\n",
    "  or lower(Body) like '%promote%'\n",
    "  or lower(Body) like '%champion%'\n",
    "  or lower(Body) like '%endorse%'\n",
    "  or lower(Body) like '%commend%'\n",
    "  or lower(Body) like '%propose%'\n",
    "  or lower(Body) like '%oppose%'\n",
    "  or lower(Body) like '%condemn%'\n",
    "  or lower(Body) like '%reject%'\n",
    "  or lower(Body) like '%disapprove%'\n",
    "  )\n",
    "\n",
    "\n",
    "SELECT  *\n",
    "\t into [StackOverflowRecommendationsDb_April2024].[dbo].[Questions_TitleBodyBoth_AllKeywords]\n",
    "  FROM [StackOverflowPostsDb_April2024].[dbo].[StackOverflowPosts]\n",
    "  where PostTypeId=1 and (\n",
    "  (lower(Title) like '%recommend%'  and lower(Body) like '%recommend%' ) \n",
    "  or\n",
    "  (lower(Title) like '%advise%' and  lower(Body) like '%advise%' )\n",
    "  or \n",
    "  (lower(Title) like '%advocate%' and lower(Body) like '%advocate%')\n",
    "  or \n",
    "  (lower(Title) like '%adopt%' and lower(Body) like '%adopt%')\n",
    "  or\n",
    "  (lower(Title) like '%suggest%' and  lower(Body) like '%suggest%')\n",
    "  or \n",
    "  (lower(Title) like '%suitable%' and lower(Body) like '%suitable%')\n",
    "  or \n",
    "  (lower(Title) like '%praise%' and lower(Body) like '%praise%')\n",
    "  or \n",
    "  (lower(Title) like '%favor%' and lower(Body) like '%favor%')\n",
    "  or \n",
    "  (lower(Title) like '%support%' and lower(Body) like '%support%')\n",
    "  or \n",
    "  (lower(Title) like '%urge%' and lower(Body) like '%urge%')\n",
    "  or \n",
    "  (lower(Title) like '%promote%' and lower(Body) like '%promote%')\n",
    "  or \n",
    "  (lower(Title) like '%champion%' and lower(Body) like '%champion%')\n",
    "  or \n",
    "  (lower(Title) like '%endorse%' and lower(Body) like '%endorse%')\n",
    "  or \n",
    "  (lower(Title) like '%commend%' and  lower(Body) like '%commend%')\n",
    "  or \n",
    "  (lower(Title) like '%propose%' and lower(Body) like '%propose%')\n",
    "  or \n",
    "  (lower(Title) like '%oppose%' and lower(Body) like '%oppose%')\n",
    "  or \n",
    "  (lower(Title) like '%condemn%' and  lower(Body) like '%condemn%')\n",
    "  or \n",
    "  (lower(Title) like '%reject%' and lower(Body) like '%reject%')\n",
    "  or \n",
    "  (lower(Title) like '%disapprove%' and lower(Body) like '%disapprove%')\n",
    "  )"
   ]
  },
  {
   "cell_type": "markdown",
   "id": "0a35467f-ee4e-4ba9-b995-c682cb9f6d2c",
   "metadata": {},
   "source": [
    "<p><b>Counting Individual Questions:</b> We then used the following query to find the number of questions containing each of the keywords. Replace the keyword placeholder in the query with any actual keyword.</p>"
   ]
  },
  {
   "cell_type": "raw",
   "id": "c6a4e08f-ff0b-4c78-9ca8-3d7ff5e3160a",
   "metadata": {},
   "source": [
    "SELECT  count(*)\n",
    "  FROM [StackOverflowRecommendationsDb_April2024].[dbo].[Questions_Title_AllKeywords] \n",
    "  where lower(Title) like '%<keyword>%'\n",
    "\n",
    "\n",
    "SELECT  count(*)\n",
    "  FROM [StackOverflowRecommendationsDb_April2024].[dbo].[Questions_Body_AllKeywords]\n",
    "  where lower(Body) like '%<keyword>%'\n",
    "\n",
    "SELECT count(*)\n",
    "  FROM [StackOverflowRecommendationsDb_April2024].[dbo].[Questions_TitleBodyBoth_AllKeywords]\n",
    "   where lower(Title) like '%<keyword>%' and  lower(Body) like '%<keyword>%'"
   ]
  },
  {
   "cell_type": "markdown",
   "id": "74a5f6ae-20e8-4ad6-8bfd-e46a1b1bd4ea",
   "metadata": {},
   "source": [
    "<p><b>Finding Closed Qs and those with Accepted Answers:</b> We used the following simple SQL queries to find the number of questions containing one or more of the relevant keywords in Title, Body or both which either got closed or received an answer that was accepted by the questioner.</p>"
   ]
  },
  {
   "cell_type": "raw",
   "id": "731d5584-8b07-4f49-bcf1-4083ddd3872c",
   "metadata": {},
   "source": [
    "<!-- -Total number of questions containing one or more of keywords in Title, Body and both Title+Body-->\n",
    "SELECT count(*)\n",
    "  FROM [StackOverflowRecommendationsDb_April2024].[dbo].[Questions_Title_AllKeywords]\n",
    "SELECT count(*)\n",
    "  FROM [StackOverflowRecommendationsDb_April2024].[dbo].[Questions_Body_AllKeywords]\n",
    "SELECT count(*)\n",
    "  FROM [StackOverflowRecommendationsDb_April2024].[dbo].[Questions_TitleBodyBoth_AllKeywords]\n",
    "\n",
    "<!-- -Total number of questions containing one or more of keywords in Title, Body and both Title+Body that got closed-->\n",
    "SELECT count(*)\n",
    "  FROM [StackOverflowRecommendationsDb_April2024].[dbo].[Questions_Title_AllKeywords]\n",
    "  where [ClosedDate] != '1970-01-01 00:00:00.000'\n",
    "    \n",
    "SELECT count(*)\n",
    "  FROM [StackOverflowRecommendationsDb_April2024].[dbo].[Questions_Body_AllKeywords]\n",
    "  where [ClosedDate] != '1970-01-01 00:00:00.000'\n",
    "  \n",
    "    \n",
    "<!-- -Total number of questions containing one or more of keywords in Title, Body and both Title+Body that received an answer accepted by the questioner->\n",
    "SELECT count(*)\n",
    "  FROM [StackOverflowRecommendationsDb_April2024].[dbo].[Questions_Title_AllKeywords]\n",
    "  where AcceptedAnswerId !=0\n",
    "\n",
    "SELECT count(*)\n",
    "  FROM [StackOverflowRecommendationsDb_April2024].[dbo].[Questions_Body_AllKeywords]\n",
    "   where AcceptedAnswerId !=0\n",
    "\n",
    "SELECT count(*)\n",
    "  FROM [StackOverflowRecommendationsDb_April2024].[dbo].[Questions_TitleBodyBoth_AllKeywords]\n",
    "   where AcceptedAnswerId !=0            \n"
   ]
  },
  {
   "cell_type": "markdown",
   "id": "b4f16477-9222-4d95-843a-933deb1e7fd1",
   "metadata": {},
   "source": [
    "<p><b>Finding Answers and Comments containing relevant keywords</b>: We used the following SQL queries to find the number of answers and comments containing one or more of the relevant keywords in Answers (<code> Posts with PostTypeId=2</code>) and Comments.</p>"
   ]
  },
  {
   "cell_type": "raw",
   "id": "05193d29-78fb-4149-b115-067fe8d580e6",
   "metadata": {},
   "source": [
    "SELECT count(*)\n",
    "  FROM [StackOverflowRecommendationsDb_April2024].[dbo].[Answers_AllKeywords]\n",
    "  where lower(Body) like '%<keyword>%'\n",
    "\n",
    "SELECT count(*)\n",
    "  FROM [StackOverflowRecommendationsDb_April2024].[dbo].[Comments_AllKeywords]\n",
    "  where lower(text) like '%<keyword>%'\n"
   ]
  },
  {
   "cell_type": "markdown",
   "id": "6f51d56e-b7d2-4f12-b2ab-d1a1f8889124",
   "metadata": {},
   "source": [
    "<h2>RQ 4: Do developers provide (any sort of) recommendations on Stack Overflow?\n",
    "</h2>"
   ]
  },
  {
   "cell_type": "markdown",
   "id": "d302c109-b519-4c3f-b789-2270c5891a61",
   "metadata": {},
   "source": [
    "<p><b>Keywords Based Filtering:</b> We used the following SQL queries to extract <code>Answers</code> from Stack Overflow <code>Posts</code> and subset of <code>Comments</code> which contain one or more recommendation related keywords. "
   ]
  },
  {
   "cell_type": "raw",
   "id": "af1b5691-fc3c-481f-9703-5e89e12ff0e0",
   "metadata": {},
   "source": [
    "SELECT  [AutoIdPK]\n",
    "      ,[Id]\n",
    "      ,[PostTypeId]\n",
    "      ,[AcceptedAnswerId]\n",
    "      ,[ParentId]\n",
    "      ,[CreationDate]\n",
    "      ,[DeletionDate]\n",
    "      ,[Score]\n",
    "      ,[ViewCount]\n",
    "      ,[Body]\n",
    "      ,[OwnerUserId]\n",
    "      ,[OwnerDisplayName]\n",
    "      ,[LastEditorUserId]\n",
    "      ,[LastEditorDisplayName]\n",
    "      ,[LastEditDate]\n",
    "      ,[LastActivityDate]\n",
    "      ,[Title]\n",
    "      ,[Tags]\n",
    "      ,[AnswerCount]\n",
    "      ,[CommentCount]\n",
    "      ,[FavoriteCount]\n",
    "      ,[ClosedDate]\n",
    "      ,[CommunityOwnedDate]\n",
    "      ,[ContentLicense]\n",
    "\t into [StackOverflowRecommendationsDb_April2024].[dbo].[Answers_AllKeywords]\n",
    "  FROM [StackOverflowPostsDb_April2024].[dbo].[StackOverflowPosts]\n",
    "  where PostTypeId=2 and (\n",
    "  lower(Body) like '%recommend%'\n",
    "  or lower(Body) like '%advise%'\n",
    "  or lower(Body) like '%advocate%'\n",
    "  or lower(Body) like '%adopt%'\n",
    "  or lower(Body) like '%suggest%'\n",
    "  or lower(Body) like '%suitable%'\n",
    "  or lower(Body) like '%praise%'\n",
    "  or lower(Body) like '%favor%'\n",
    "  or lower(Body) like '%support%'\n",
    "  or lower(Body) like '%urge%'\n",
    "  or lower(Body) like '%promote%'\n",
    "  or lower(Body) like '%champion%'\n",
    "  or lower(Body) like '%endorse%'\n",
    "  or lower(Body) like '%commend%'\n",
    "  or lower(Body) like '%propose%'\n",
    "  or lower(Body) like '%oppose%'\n",
    "  or lower(Body) like '%condemn%'\n",
    "  or lower(Body) like '%reject%'\n",
    "  or lower(Body) like '%disapprove%'\n",
    "  )\n",
    "\n",
    "\n",
    "SELECT  [AutoIdPK]\n",
    "      ,[Id]\n",
    "      ,[PostId]\n",
    "      ,[Score]\n",
    "      ,[Text]\n",
    "      ,[CreationDate]\n",
    "      ,[UserDisplayName]\n",
    "      ,[UserId]\n",
    "      ,[ContentLicense]\n",
    "\t  into [StackOverflowRecommendationsDb_April2024].[dbo].[Comments_AllKeywords]\n",
    "  FROM [StackOverflowCommentsDb_April2024].[dbo].[StackOverflowComments]\n",
    "  where lower(Text) like '%recommend%'\n",
    "or lower(Text) like '%advise%'\n",
    "or lower(Text) like '%advocate%'\n",
    "or lower(Text) like '%adopt%'\n",
    "or lower(Text) like '%suggest%'\n",
    "or lower(Text) like '%suitable%'\n",
    "or lower(Text) like '%praise%'\n",
    "or lower(Text) like '%favor%'\n",
    "or lower(Text) like '%support%'\n",
    "or lower(Text) like '%urge%'\n",
    "or lower(Text) like '%promote%'\n",
    "or lower(Text) like '%champion%'\n",
    "or lower(Text) like '%endorse%'\n",
    "or lower(Text) like '%commend%'\n",
    "or lower(Text) like '%propose%'\n",
    "or lower(Text) like '%oppose%'\n",
    "or lower(Text) like '%condemn%'\n",
    "or lower(Text) like '%reject%'\n",
    "or lower(Text) like '%disapprove%'\n"
   ]
  },
  {
   "cell_type": "markdown",
   "id": "5bc0d182-719a-4a04-aae6-c006d9e0fffb",
   "metadata": {},
   "source": [
    "<h2>RQ 5: Do Stack Overflow discussions containing recommendation related keywords actually provide any kind of recommendations?\n",
    "</h2>"
   ]
  },
  {
   "cell_type": "markdown",
   "id": "f4031845-9f6f-42f0-9e3e-5c80d735bf8c",
   "metadata": {},
   "source": [
    "<p><b>Chronological Analysis of Posts and Comments Filtered by Keywords-Based Approach:</b> We used the following SQL queries to find the number of <code>questions</code>, <code>answers</code> and <code>comments</code> posted on Stack Overflow each year containing one or more of recommendations related keywords."
   ]
  },
  {
   "cell_type": "raw",
   "id": "b786d5a9-0699-4a2e-8c27-6172e96115b3",
   "metadata": {},
   "source": [
    "Select count(*) as qty, datepart(yyyy, [CreationDate]) as [year]\n",
    "from [StackOverflowRecommendationsDb_April2024].[dbo].[Questions_Title_AllKeywords]\n",
    "group by datepart(yyyy, [CreationDate])\n",
    "order by [year]\n",
    "\n",
    "Select count(*) as qty, datepart(yyyy, [CreationDate]) as [year]\n",
    "from [StackOverflowRecommendationsDb_April2024].[dbo].[Questions_Body_AllKeywords]\n",
    "group by datepart(yyyy, [CreationDate])\n",
    "order by [year]\n",
    "\n",
    "Select count(*) as qty, datepart(yyyy, [CreationDate]) as [year]\n",
    "from [StackOverflowRecommendationsDb_April2024].[dbo].[Questions_TitleBodyBoth_AllKeywords]\n",
    "group by datepart(yyyy, [CreationDate])\n",
    "order by [year]\n",
    "\n",
    "\n",
    "Select count(*) as qty, datepart(yyyy, [CreationDate]) as [year]\n",
    "from [StackOverflowRecommendationsDb_April2024].[dbo].[Answers_AllKeywords]\n",
    "group by datepart(yyyy, [CreationDate])\n",
    "order by [year]\n",
    "\n",
    "Select count(*) as qty, datepart(yyyy, [CreationDate]) as [year]\n",
    "from [StackOverflowRecommendationsDb_April2024].[dbo].[Comments_AllKeywords]\n",
    "group by datepart(yyyy, [CreationDate])\n",
    "order by [year]"
   ]
  },
  {
   "cell_type": "markdown",
   "id": "69052e3a-ed16-47e9-a115-d4f67ef4e448",
   "metadata": {},
   "source": [
    "<p><b>Word Frequency Analysis of Comments:</b> We applied word frequency analysis to comments after performing the following text preprocessing steps.</p>\n",
    "<li> removing anything enclosed in code blocks </li>\n",
    "<li> removing html tags </li>\n",
    "<li> removing urls </li>\n",
    "<li> removing stop words</li>\n",
    "<li> removing usernames mentioned in comments starting from @, removing numbers</li>\n"
   ]
  },
  {
   "cell_type": "code",
   "execution_count": null,
   "id": "592c926c-2f47-4eee-83de-b463d5e2ba8f",
   "metadata": {},
   "outputs": [],
   "source": [
    "import re\n",
    "from bs4 import BeautifulSoup\n",
    "import nltk\n",
    "import spacy\n",
    "import pandas as pd\n",
    "import numpy as np\n",
    "import nltk\n",
    "from nltk.tokenize.toktok import ToktokTokenizer\n",
    "import re\n",
    "from bs4 import BeautifulSoup\n",
    "nlp = spacy.load(\"en_core_web_sm\")\n",
    "tokenizer = ToktokTokenizer()\n",
    "# nltk.download('stopwords')\n",
    "stopword_list = nltk.corpus.stopwords.words('english')\n",
    "\n",
    "df = pd.read_csv('E:\\\\Publications\\\\Submitted\\\\AnalyzingTheWisdomOfCrowdsForSoftwareRecommendations\\\\Dataset\\\\CommentsTextOnly.csv')\n",
    "print(df.head())\n"
   ]
  },
  {
   "cell_type": "code",
   "execution_count": null,
   "id": "0ca817df-5f38-4315-9227-2630c20d811d",
   "metadata": {},
   "outputs": [],
   "source": [
    "import re\n",
    "from bs4 import BeautifulSoup\n",
    "import nltk\n",
    "import spacy\n",
    "import pandas as pd\n",
    "import numpy as np\n",
    "import nltk\n",
    "from nltk.tokenize.toktok import ToktokTokenizer\n",
    "import re\n",
    "from bs4 import BeautifulSoup\n",
    "nlp = spacy.load(\"en_core_web_sm\")\n",
    "tokenizer = ToktokTokenizer()\n",
    "# nltk.download('stopwords')\n",
    "stopword_list = nltk.corpus.stopwords.words('english')\n",
    "\n",
    "def remove_code_snippet(x):\n",
    "    result = re.search('<code>(.*)</code>', x)\n",
    "    if result:\n",
    "        x= x.replace(result.group(1), '')\n",
    "    return x\n",
    "\n",
    "def remove_html_tags(x):\n",
    "    x = re.sub(r\"<.*?>\", \" \", x)\n",
    "    return x\n",
    "\n",
    "df['Text'] = df['Text'].apply(remove_code_snippet)\n",
    "df['TextClean'] = df['Text'].apply(remove_html_tags)\n",
    "print('removed code and html')"
   ]
  },
  {
   "cell_type": "code",
   "execution_count": null,
   "id": "72a7ef47-abda-4868-a6ce-f8d0258645b6",
   "metadata": {},
   "outputs": [],
   "source": [
    "import spacy\n",
    "import nltk\n",
    "from nltk.corpus import stopwords\n",
    "\n",
    "spacy_stopwords = spacy.lang.en.stop_words.STOP_WORDS\n",
    "nltk_stopwords = set(stopwords.words('english'))\n",
    "additional_stopwords = set(['didnt','dont', 'doesnt', 'isnt', 'arent',   'wasnt' , 'werent' ,'wouldnt', 'shouldnt', 'couldnt', 'mightnt' ,'mustnt', 'shant' ,'wont', 'havent', 'hadnt','hasnt', 'thatll', 'itll',  'its', 'shes', 'hes',  'youd',   'youve', 'youll'])\n",
    "\n",
    "stopwords= spacy_stopwords.union (nltk_stopwords.union(additional_stopwords))\n",
    "print(len(stopwords))\n",
    "print(stopwords)"
   ]
  },
  {
   "cell_type": "code",
   "execution_count": null,
   "id": "9ac9ebaf-2ab1-43e0-bac8-4bf11022ecf1",
   "metadata": {},
   "outputs": [],
   "source": [
    "from collections import Counter\n",
    "df['TextCleanWithOutUrls'] = df['TextClean'].str.replace('http\\S+|www.\\S+', '', case=False)\n",
    "df['TextCleanTokens'] = df['TextCleanWithOutUrls'].str.split()\n",
    "tokens_list = df['TextCleanTokens'].tolist()\n",
    "\n",
    "result = []\n",
    "for sublist in tokens_list:\n",
    "    for item in sublist:\n",
    "        cleanItem= item.lower()\n",
    "        if not cleanItem.startswith('@'):\n",
    "            cleanItem = re.sub('[^A-Za-z]+', '', cleanItem)            \n",
    "            # cleanItem = re.sub('[^A-Za-z0-9]+', '', cleanItem)\n",
    "        if cleanItem not in stopwords and not cleanItem.startswith('@') and not 'http' in cleanItem:\n",
    "            result.append(cleanItem)\n",
    "\n",
    "print(result[:500])\n",
    "print('---------------')\n",
    "\n",
    "c = Counter(result)\n",
    "with open(\"Comments_WordFrequencyAnalysis\", 'w', encoding=\"utf-8\") as f:\n",
    "    for k,v in  c.most_common():\n",
    "        f.write( \"{} {}\\n\".format(k,v) )"
   ]
  },
  {
   "cell_type": "markdown",
   "id": "806c1505-2670-42cf-9fca-2d97e6299fe9",
   "metadata": {},
   "source": [
    "<h2>Datasets</h2>"
   ]
  },
  {
   "cell_type": "markdown",
   "id": "a7434c5c-dc68-4568-b735-f8e8c975caf9",
   "metadata": {},
   "source": [
    "<h3>Raw Dataset 1: Recommendation Related Questions with Accepted Answer</h3>"
   ]
  },
  {
   "cell_type": "markdown",
   "id": "c95c538f-747c-4859-b648-6042dab3b34e",
   "metadata": {},
   "source": [
    "<p>We used the following SQL queries and saved the results in csv format.</p>"
   ]
  },
  {
   "cell_type": "raw",
   "id": "a21a7590-aeea-4713-9bd7-80a3bf788bfc",
   "metadata": {},
   "source": [
    "SELECT \n",
    "\t [Id]  \n",
    "      ,[AcceptedAnswerId]\n",
    "      ,[Title]\n",
    "\t  ,[Body]\n",
    "      ,[Tags]\n",
    "  FROM [StackOverflowRecommendationsDb_April2024].[dbo].[Questions_Title_AllKeywords]\n",
    "  where [AcceptedAnswerId] !=0\n",
    "\n",
    "SELECT [Id]  \n",
    "      ,[AcceptedAnswerId]\n",
    "      ,[Title]\n",
    "\t  ,[Body]\n",
    "      ,[Tags]\n",
    "  FROM [StackOverflowRecommendationsDb_April2024].[dbo].[Questions_Body_AllKeywords]\n",
    "    where [AcceptedAnswerId] !=0\n",
    "\n",
    "SELECT [Id]  \n",
    "      ,[AcceptedAnswerId]\n",
    "      ,[Title]\n",
    "\t  ,[Body]\n",
    "      ,[Tags]\n",
    "  FROM [StackOverflowRecommendationsDb_April2024].[dbo].[Questions_TitleBodyBoth_AllKeywords]\n",
    "    where [AcceptedAnswerId] !=0"
   ]
  },
  {
   "cell_type": "markdown",
   "id": "a2e9e031-4296-4f88-a563-a146ddefca04",
   "metadata": {},
   "source": [
    "<h3>Raw Dataset 2: Recommendation Related Answers and Comments</h3>"
   ]
  },
  {
   "cell_type": "markdown",
   "id": "0308a382-27c7-4eb1-82c1-4093241bfa54",
   "metadata": {},
   "source": [
    "<p>We used the following SQL queries and saved the results in csv format.</p>"
   ]
  },
  {
   "cell_type": "raw",
   "id": "a10efdff-3b3d-4394-bdc9-7e36a5fae77e",
   "metadata": {},
   "source": [
    "SELECT [Id]\n",
    "      ,[PostId]\n",
    "      ,[Score]\n",
    "      ,[Text]\n",
    "      ,[CreationDate]\n",
    "      ,[UserDisplayName]\n",
    "      ,[UserId]\n",
    "       FROM [StackOverflowRecommendationsDb_April2024].[dbo].[Comments_AllKeywords]\n",
    "\n",
    "\n",
    "SELECT [Id]\n",
    "      ,[ParentId]\n",
    "  FROM [StackOverflowRecommendationsDb_April2024].[dbo].[Answers_AllKeywords]\n"
   ]
  },
  {
   "cell_type": "code",
   "execution_count": null,
   "id": "1cdbd201-3ebf-4781-a0c6-50a35e7285fd",
   "metadata": {},
   "outputs": [],
   "source": []
  }
 ],
 "metadata": {
  "kernelspec": {
   "display_name": "Python 3 (ipykernel)",
   "language": "python",
   "name": "python3"
  },
  "language_info": {
   "codemirror_mode": {
    "name": "ipython",
    "version": 3
   },
   "file_extension": ".py",
   "mimetype": "text/x-python",
   "name": "python",
   "nbconvert_exporter": "python",
   "pygments_lexer": "ipython3",
   "version": "3.12.3"
  }
 },
 "nbformat": 4,
 "nbformat_minor": 5
}
